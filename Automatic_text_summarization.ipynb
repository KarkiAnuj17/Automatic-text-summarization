{
  "cells": [
    {
      "cell_type": "markdown",
      "metadata": {
        "id": "view-in-github",
        "colab_type": "text"
      },
      "source": [
        "<a href=\"https://colab.research.google.com/github/KarkiAnuj17/Automatic-text-summarization/blob/main/Automatic_text_summarization.ipynb\" target=\"_parent\"><img src=\"https://colab.research.google.com/assets/colab-badge.svg\" alt=\"Open In Colab\"/></a>"
      ]
    },
    {
      "cell_type": "code",
      "execution_count": 11,
      "metadata": {
        "id": "QhkQlHY6Weau"
      },
      "outputs": [],
      "source": [
        "import pandas as pd\n",
        "import numpy as np\n",
        "from tqdm import tqdm"
      ]
    },
    {
      "cell_type": "code",
      "execution_count": 12,
      "metadata": {
        "colab": {
          "base_uri": "https://localhost:8080/"
        },
        "id": "b-bl4BEeXVgw",
        "outputId": "a7019b91-2408-4dfe-e01d-d251dab80105"
      },
      "outputs": [
        {
          "output_type": "stream",
          "name": "stdout",
          "text": [
            "Index(['id', 'article', 'highlights'], dtype='object')\n",
            "(11490, 3)\n"
          ]
        }
      ],
      "source": [
        "path=\"/content/drive/MyDrive/dataset/test.csv\"\n",
        "df=pd.read_csv(path)\n",
        "print(df.columns)\n",
        "print(df.shape)"
      ]
    },
    {
      "cell_type": "code",
      "execution_count": 13,
      "metadata": {
        "id": "ohQcpvlUZ_Pc"
      },
      "outputs": [],
      "source": [
        "import spacy\n",
        "from tqdm import tqdm\n",
        "nlp = spacy.load('en_core_web_sm')"
      ]
    },
    {
      "cell_type": "code",
      "source": [
        "from google.colab import drive\n",
        "drive.mount('/content/drive')"
      ],
      "metadata": {
        "id": "OjaejzEtzqHC"
      },
      "execution_count": null,
      "outputs": []
    },
    {
      "cell_type": "code",
      "execution_count": 14,
      "metadata": {
        "colab": {
          "base_uri": "https://localhost:8080/"
        },
        "id": "cmKIXFf705B-",
        "outputId": "63817790-02c5-441b-fc09-39685099fe1b"
      },
      "outputs": [
        {
          "output_type": "stream",
          "name": "stderr",
          "text": [
            "100%|██████████| 11490/11490 [30:13<00:00,  6.34it/s]"
          ]
        },
        {
          "output_type": "stream",
          "name": "stdout",
          "text": [
            "                                         id  \\\n",
            "0  92c514c913c0bdfe25341af9fd72b29db544099b   \n",
            "1  2003841c7dc0e7c5b1a248f9cd536d727f27a45a   \n",
            "2  91b7d2311527f5c2b63a65ca98d21d9c92485149   \n",
            "3  caabf9cbdf96eb1410295a673e953d304391bfbb   \n",
            "4  3da746a7d9afcaa659088c8366ef6347fe6b53ea   \n",
            "\n",
            "                                             article  \\\n",
            "0  Ever noticed how plane seats appear to be gett...   \n",
            "1  A drunk teenage boy had to be rescued by secur...   \n",
            "2  Dougie Freedman is on the verge of agreeing a ...   \n",
            "3  Liverpool target Neto is also wanted by PSG an...   \n",
            "4  Bruce Jenner will break his silence in a two-h...   \n",
            "\n",
            "                                          highlights  \\\n",
            "0  Experts question if  packed out planes are put...   \n",
            "1  Drunk teenage boy climbed into lion enclosure ...   \n",
            "2  Nottingham Forest are close to extending Dougi...   \n",
            "3  Fiorentina goalkeeper Neto has been linked wit...   \n",
            "4  Tell-all interview with the reality TV star, 6...   \n",
            "\n",
            "                                           sentences  \n",
            "0  [Ever noticed how plane seats appear to be get...  \n",
            "1  [A drunk teenage boy had to be rescued by secu...  \n",
            "2  [Dougie Freedman is on the verge of agreeing a...  \n",
            "3  [Liverpool target Neto is also wanted by PSG a...  \n",
            "4  [Bruce Jenner will break his silence in a two-...  \n"
          ]
        },
        {
          "output_type": "stream",
          "name": "stderr",
          "text": [
            "\n"
          ]
        }
      ],
      "source": [
        " #Splitting Sentences\n",
        "def split_sentences(text):\n",
        "    doc = nlp(text)\n",
        "    return [sent.text for sent in doc.sents]\n",
        "df['sentences'] = df['article'].progress_apply(split_sentences)\n",
        "print(df.head())"
      ]
    },
    {
      "cell_type": "code",
      "execution_count": 15,
      "metadata": {
        "id": "AKK--UkbqGgA",
        "colab": {
          "base_uri": "https://localhost:8080/"
        },
        "outputId": "c2b2ba50-ab51-46b2-fdfb-f69d4212ebca"
      },
      "outputs": [
        {
          "output_type": "stream",
          "name": "stderr",
          "text": [
            "100%|██████████| 11490/11490 [1:29:37<00:00,  2.14it/s]"
          ]
        },
        {
          "output_type": "stream",
          "name": "stdout",
          "text": [
            "                                         id  \\\n",
            "0  92c514c913c0bdfe25341af9fd72b29db544099b   \n",
            "1  2003841c7dc0e7c5b1a248f9cd536d727f27a45a   \n",
            "2  91b7d2311527f5c2b63a65ca98d21d9c92485149   \n",
            "3  caabf9cbdf96eb1410295a673e953d304391bfbb   \n",
            "4  3da746a7d9afcaa659088c8366ef6347fe6b53ea   \n",
            "\n",
            "                                             article  \\\n",
            "0  Ever noticed how plane seats appear to be gett...   \n",
            "1  A drunk teenage boy had to be rescued by secur...   \n",
            "2  Dougie Freedman is on the verge of agreeing a ...   \n",
            "3  Liverpool target Neto is also wanted by PSG an...   \n",
            "4  Bruce Jenner will break his silence in a two-h...   \n",
            "\n",
            "                                          highlights  \\\n",
            "0  Experts question if  packed out planes are put...   \n",
            "1  Drunk teenage boy climbed into lion enclosure ...   \n",
            "2  Nottingham Forest are close to extending Dougi...   \n",
            "3  Fiorentina goalkeeper Neto has been linked wit...   \n",
            "4  Tell-all interview with the reality TV star, 6...   \n",
            "\n",
            "                                           sentences  \\\n",
            "0  [Ever noticed how plane seats appear to be get...   \n",
            "1  [A drunk teenage boy had to be rescued by secu...   \n",
            "2  [Dougie Freedman is on the verge of agreeing a...   \n",
            "3  [Liverpool target Neto is also wanted by PSG a...   \n",
            "4  [Bruce Jenner will break his silence in a two-...   \n",
            "\n",
            "                                              tokens  \n",
            "0  [[noticed, plane, seats, appear, getting, smal...  \n",
            "1  [[drunk, teenage, boy, rescued, security, jump...  \n",
            "2  [[Dougie, Freedman, verge, agreeing, new, -, y...  \n",
            "3  [[Liverpool, target, Neto, wanted, PSG, clubs,...  \n",
            "4  [[Bruce, Jenner, break, silence, -, hour, inte...  \n"
          ]
        },
        {
          "output_type": "stream",
          "name": "stderr",
          "text": [
            "\n"
          ]
        }
      ],
      "source": [
        "#Tokenization\n",
        "def tokenize_sentence(sentence):\n",
        "    doc = nlp(sentence)\n",
        "    return [token.text for token in doc]\n",
        " #Stop Word Removal\n",
        "def remove_stopwords(tokens):\n",
        "    return [token for token in tokens if not nlp.vocab[token].is_stop]\n",
        "\n",
        "df['tokens'] = df['sentences'].progress_apply(lambda sents: [remove_stopwords(tokenize_sentence(sent)) for sent in sents])\n",
        "print(df.head())"
      ]
    },
    {
      "cell_type": "code",
      "execution_count": 22,
      "metadata": {
        "colab": {
          "base_uri": "https://localhost:8080/"
        },
        "id": "dQAfpDo2qG3u",
        "outputId": "9c827215-5907-4ce1-ee7e-78886fef21cc"
      },
      "outputs": [
        {
          "output_type": "stream",
          "name": "stderr",
          "text": [
            "100%|██████████| 11490/11490 [00:00<00:00, 13012.88it/s]\n"
          ]
        }
      ],
      "source": [
        "# Flatten the nested list of tokens\n",
        "df['tokens_flat'] = df['tokens'].progress_apply(lambda token_lists: [token for sublist in token_lists for token in sublist])\n"
      ]
    },
    {
      "cell_type": "code",
      "execution_count": 25,
      "metadata": {
        "id": "uxEBD4zAyhuW",
        "colab": {
          "base_uri": "https://localhost:8080/"
        },
        "outputId": "da7e9bce-c4c3-4d51-fe61-b6fa128c132c"
      },
      "outputs": [
        {
          "output_type": "stream",
          "name": "stderr",
          "text": [
            "100%|██████████| 11490/11490 [18:10<00:00, 10.54it/s]"
          ]
        },
        {
          "output_type": "stream",
          "name": "stdout",
          "text": [
            "                                         id  \\\n",
            "0  92c514c913c0bdfe25341af9fd72b29db544099b   \n",
            "1  2003841c7dc0e7c5b1a248f9cd536d727f27a45a   \n",
            "2  91b7d2311527f5c2b63a65ca98d21d9c92485149   \n",
            "3  caabf9cbdf96eb1410295a673e953d304391bfbb   \n",
            "4  3da746a7d9afcaa659088c8366ef6347fe6b53ea   \n",
            "\n",
            "                                             article  \\\n",
            "0  Ever noticed how plane seats appear to be gett...   \n",
            "1  A drunk teenage boy had to be rescued by secur...   \n",
            "2  Dougie Freedman is on the verge of agreeing a ...   \n",
            "3  Liverpool target Neto is also wanted by PSG an...   \n",
            "4  Bruce Jenner will break his silence in a two-h...   \n",
            "\n",
            "                                          highlights  \\\n",
            "0  Experts question if  packed out planes are put...   \n",
            "1  Drunk teenage boy climbed into lion enclosure ...   \n",
            "2  Nottingham Forest are close to extending Dougi...   \n",
            "3  Fiorentina goalkeeper Neto has been linked wit...   \n",
            "4  Tell-all interview with the reality TV star, 6...   \n",
            "\n",
            "                                           sentences  \\\n",
            "0  [Ever noticed how plane seats appear to be get...   \n",
            "1  [A drunk teenage boy had to be rescued by secu...   \n",
            "2  [Dougie Freedman is on the verge of agreeing a...   \n",
            "3  [Liverpool target Neto is also wanted by PSG a...   \n",
            "4  [Bruce Jenner will break his silence in a two-...   \n",
            "\n",
            "                                              tokens  \\\n",
            "0  [[noticed, plane, seats, appear, getting, smal...   \n",
            "1  [[drunk, teenage, boy, rescued, security, jump...   \n",
            "2  [[Dougie, Freedman, verge, agreeing, new, -, y...   \n",
            "3  [[Liverpool, target, Neto, wanted, PSG, clubs,...   \n",
            "4  [[Bruce, Jenner, break, silence, -, hour, inte...   \n",
            "\n",
            "                                         tokens_flat  \\\n",
            "0  [noticed, plane, seats, appear, getting, small...   \n",
            "1  [drunk, teenage, boy, rescued, security, jumpi...   \n",
            "2  [Dougie, Freedman, verge, agreeing, new, -, ye...   \n",
            "3  [Liverpool, target, Neto, wanted, PSG, clubs, ...   \n",
            "4  [Bruce, Jenner, break, silence, -, hour, inter...   \n",
            "\n",
            "                                   lemmatized_tokens  \n",
            "0  [notice, plane, seat, appear, get, small, smal...  \n",
            "1  [drunk, teenage, boy, rescue, security, jumpin...  \n",
            "2  [Dougie, Freedman, verge, agree, new, -, year,...  \n",
            "3  [liverpool, target, Neto, want, PSG, club, Spa...  \n",
            "4  [Bruce, Jenner, break, silence, -, hour, inter...  \n"
          ]
        },
        {
          "output_type": "stream",
          "name": "stderr",
          "text": [
            "\n"
          ]
        }
      ],
      "source": [
        "# Apply lemmatization\n",
        "def lemmatize_tokens(tokens):\n",
        "    doc = nlp(\" \".join(tokens))\n",
        "    return [token.lemma_ for token in doc if not token.is_stop]\n",
        "\n",
        "df['lemmatized_tokens'] = df['tokens_flat'].progress_apply(lemmatize_tokens)\n",
        "print(df.head())"
      ]
    },
    {
      "cell_type": "code",
      "execution_count": null,
      "metadata": {
        "colab": {
          "base_uri": "https://localhost:8080/"
        },
        "id": "pZcfBE519qpI",
        "outputId": "70a1b0a0-84d0-4cd8-af2d-262b805d0bd5"
      },
      "outputs": [
        {
          "name": "stderr",
          "output_type": "stream",
          "text": [
            " 39%|███▉      | 4456/11490 [11:48<13:48,  8.49it/s]"
          ]
        }
      ],
      "source": []
    }
  ],
  "metadata": {
    "colab": {
      "provenance": [],
      "mount_file_id": "1tjT8m0KTEIOENo8ueGMPKhbCLZ1IhCGZ",
      "authorship_tag": "ABX9TyMQzIRYfWFkfcFZUtFBKoYL",
      "include_colab_link": true
    },
    "kernelspec": {
      "display_name": "Python 3",
      "name": "python3"
    },
    "language_info": {
      "name": "python"
    }
  },
  "nbformat": 4,
  "nbformat_minor": 0
}